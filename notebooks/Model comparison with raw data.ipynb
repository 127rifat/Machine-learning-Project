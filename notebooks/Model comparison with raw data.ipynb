{
 "cells": [
  {
   "cell_type": "code",
   "execution_count": null,
   "id": "00c804df",
   "metadata": {},
   "outputs": [],
   "source": []
  },
  {
   "cell_type": "code",
   "execution_count": 1,
   "id": "3852a6d9",
   "metadata": {},
   "outputs": [],
   "source": [
    "# Load Data and Split into Train/Test Sets We split the dataset into 80% training and 20% testing.\n",
    "\n"
   ]
  },
  {
   "cell_type": "code",
   "execution_count": 8,
   "id": "07cde8bb",
   "metadata": {},
   "outputs": [
    {
     "name": "stdout",
     "output_type": "stream",
     "text": [
      "✅ Data preprocessed and ready for training!\n"
     ]
    }
   ],
   "source": [
    "import pandas as pd\n",
    "import numpy as np\n",
    "import tensorflow as tf\n",
    "from tensorflow import keras\n",
    "from sklearn.model_selection import train_test_split\n",
    "from sklearn.preprocessing import StandardScaler\n",
    "\n",
    "# Load the dataset\n",
    "data = pd.read_csv('final_ml_ready_data.csv')\n",
    "\n",
    "# Select input features (X) and target variable (y)\n",
    "X = data[['Thickness', 'Fourier_Number', 'Temp_Diff']]\n",
    "y = data['Insulation_Efficiency']\n",
    "\n",
    "# Split into train (80%) and test (20%) sets\n",
    "X_train, X_test, y_train, y_test = train_test_split(X, y, test_size=0.2, random_state=42)\n",
    "\n",
    "# Normalize input features (Standardization for better NN training)\n",
    "scaler = StandardScaler()\n",
    "X_train = scaler.fit_transform(X_train)\n",
    "X_test = scaler.transform(X_test)\n",
    "\n",
    "print(\"✅ Data preprocessed and ready for training!\")"
   ]
  },
  {
   "cell_type": "markdown",
   "id": "f36e3851",
   "metadata": {},
   "source": [
    "We are standardizing features because Deep learning models perform better when inputs have zero mean & unit variance."
   ]
  },
  {
   "cell_type": "markdown",
   "id": "13a9f195",
   "metadata": {},
   "source": [
    " Build the Fully Connected Neural Network Now, let's define a 3-layer feedforward neural network."
   ]
  },
  {
   "cell_type": "code",
   "execution_count": 3,
   "id": "ca41701a",
   "metadata": {},
   "outputs": [
    {
     "name": "stderr",
     "output_type": "stream",
     "text": [
      "C:\\Users\\kawri\\AppData\\Roaming\\Python\\Python311\\site-packages\\keras\\src\\layers\\core\\dense.py:87: UserWarning: Do not pass an `input_shape`/`input_dim` argument to a layer. When using Sequential models, prefer using an `Input(shape)` object as the first layer in the model instead.\n",
      "  super().__init__(activity_regularizer=activity_regularizer, **kwargs)\n"
     ]
    },
    {
     "data": {
      "text/html": [
       "<pre style=\"white-space:pre;overflow-x:auto;line-height:normal;font-family:Menlo,'DejaVu Sans Mono',consolas,'Courier New',monospace\"><span style=\"font-weight: bold\">Model: \"sequential\"</span>\n",
       "</pre>\n"
      ],
      "text/plain": [
       "\u001b[1mModel: \"sequential\"\u001b[0m\n"
      ]
     },
     "metadata": {},
     "output_type": "display_data"
    },
    {
     "data": {
      "text/html": [
       "<pre style=\"white-space:pre;overflow-x:auto;line-height:normal;font-family:Menlo,'DejaVu Sans Mono',consolas,'Courier New',monospace\">┏━━━━━━━━━━━━━━━━━━━━━━━━━━━━━━━━━━━━━━┳━━━━━━━━━━━━━━━━━━━━━━━━━━━━━┳━━━━━━━━━━━━━━━━━┓\n",
       "┃<span style=\"font-weight: bold\"> Layer (type)                         </span>┃<span style=\"font-weight: bold\"> Output Shape                </span>┃<span style=\"font-weight: bold\">         Param # </span>┃\n",
       "┡━━━━━━━━━━━━━━━━━━━━━━━━━━━━━━━━━━━━━━╇━━━━━━━━━━━━━━━━━━━━━━━━━━━━━╇━━━━━━━━━━━━━━━━━┩\n",
       "│ dense (<span style=\"color: #0087ff; text-decoration-color: #0087ff\">Dense</span>)                        │ (<span style=\"color: #00d7ff; text-decoration-color: #00d7ff\">None</span>, <span style=\"color: #00af00; text-decoration-color: #00af00\">64</span>)                  │             <span style=\"color: #00af00; text-decoration-color: #00af00\">256</span> │\n",
       "├──────────────────────────────────────┼─────────────────────────────┼─────────────────┤\n",
       "│ dense_1 (<span style=\"color: #0087ff; text-decoration-color: #0087ff\">Dense</span>)                      │ (<span style=\"color: #00d7ff; text-decoration-color: #00d7ff\">None</span>, <span style=\"color: #00af00; text-decoration-color: #00af00\">128</span>)                 │           <span style=\"color: #00af00; text-decoration-color: #00af00\">8,320</span> │\n",
       "├──────────────────────────────────────┼─────────────────────────────┼─────────────────┤\n",
       "│ dense_2 (<span style=\"color: #0087ff; text-decoration-color: #0087ff\">Dense</span>)                      │ (<span style=\"color: #00d7ff; text-decoration-color: #00d7ff\">None</span>, <span style=\"color: #00af00; text-decoration-color: #00af00\">64</span>)                  │           <span style=\"color: #00af00; text-decoration-color: #00af00\">8,256</span> │\n",
       "├──────────────────────────────────────┼─────────────────────────────┼─────────────────┤\n",
       "│ dense_3 (<span style=\"color: #0087ff; text-decoration-color: #0087ff\">Dense</span>)                      │ (<span style=\"color: #00d7ff; text-decoration-color: #00d7ff\">None</span>, <span style=\"color: #00af00; text-decoration-color: #00af00\">1</span>)                   │              <span style=\"color: #00af00; text-decoration-color: #00af00\">65</span> │\n",
       "└──────────────────────────────────────┴─────────────────────────────┴─────────────────┘\n",
       "</pre>\n"
      ],
      "text/plain": [
       "┏━━━━━━━━━━━━━━━━━━━━━━━━━━━━━━━━━━━━━━┳━━━━━━━━━━━━━━━━━━━━━━━━━━━━━┳━━━━━━━━━━━━━━━━━┓\n",
       "┃\u001b[1m \u001b[0m\u001b[1mLayer (type)                        \u001b[0m\u001b[1m \u001b[0m┃\u001b[1m \u001b[0m\u001b[1mOutput Shape               \u001b[0m\u001b[1m \u001b[0m┃\u001b[1m \u001b[0m\u001b[1m        Param #\u001b[0m\u001b[1m \u001b[0m┃\n",
       "┡━━━━━━━━━━━━━━━━━━━━━━━━━━━━━━━━━━━━━━╇━━━━━━━━━━━━━━━━━━━━━━━━━━━━━╇━━━━━━━━━━━━━━━━━┩\n",
       "│ dense (\u001b[38;5;33mDense\u001b[0m)                        │ (\u001b[38;5;45mNone\u001b[0m, \u001b[38;5;34m64\u001b[0m)                  │             \u001b[38;5;34m256\u001b[0m │\n",
       "├──────────────────────────────────────┼─────────────────────────────┼─────────────────┤\n",
       "│ dense_1 (\u001b[38;5;33mDense\u001b[0m)                      │ (\u001b[38;5;45mNone\u001b[0m, \u001b[38;5;34m128\u001b[0m)                 │           \u001b[38;5;34m8,320\u001b[0m │\n",
       "├──────────────────────────────────────┼─────────────────────────────┼─────────────────┤\n",
       "│ dense_2 (\u001b[38;5;33mDense\u001b[0m)                      │ (\u001b[38;5;45mNone\u001b[0m, \u001b[38;5;34m64\u001b[0m)                  │           \u001b[38;5;34m8,256\u001b[0m │\n",
       "├──────────────────────────────────────┼─────────────────────────────┼─────────────────┤\n",
       "│ dense_3 (\u001b[38;5;33mDense\u001b[0m)                      │ (\u001b[38;5;45mNone\u001b[0m, \u001b[38;5;34m1\u001b[0m)                   │              \u001b[38;5;34m65\u001b[0m │\n",
       "└──────────────────────────────────────┴─────────────────────────────┴─────────────────┘\n"
      ]
     },
     "metadata": {},
     "output_type": "display_data"
    },
    {
     "data": {
      "text/html": [
       "<pre style=\"white-space:pre;overflow-x:auto;line-height:normal;font-family:Menlo,'DejaVu Sans Mono',consolas,'Courier New',monospace\"><span style=\"font-weight: bold\"> Total params: </span><span style=\"color: #00af00; text-decoration-color: #00af00\">16,897</span> (66.00 KB)\n",
       "</pre>\n"
      ],
      "text/plain": [
       "\u001b[1m Total params: \u001b[0m\u001b[38;5;34m16,897\u001b[0m (66.00 KB)\n"
      ]
     },
     "metadata": {},
     "output_type": "display_data"
    },
    {
     "data": {
      "text/html": [
       "<pre style=\"white-space:pre;overflow-x:auto;line-height:normal;font-family:Menlo,'DejaVu Sans Mono',consolas,'Courier New',monospace\"><span style=\"font-weight: bold\"> Trainable params: </span><span style=\"color: #00af00; text-decoration-color: #00af00\">16,897</span> (66.00 KB)\n",
       "</pre>\n"
      ],
      "text/plain": [
       "\u001b[1m Trainable params: \u001b[0m\u001b[38;5;34m16,897\u001b[0m (66.00 KB)\n"
      ]
     },
     "metadata": {},
     "output_type": "display_data"
    },
    {
     "data": {
      "text/html": [
       "<pre style=\"white-space:pre;overflow-x:auto;line-height:normal;font-family:Menlo,'DejaVu Sans Mono',consolas,'Courier New',monospace\"><span style=\"font-weight: bold\"> Non-trainable params: </span><span style=\"color: #00af00; text-decoration-color: #00af00\">0</span> (0.00 B)\n",
       "</pre>\n"
      ],
      "text/plain": [
       "\u001b[1m Non-trainable params: \u001b[0m\u001b[38;5;34m0\u001b[0m (0.00 B)\n"
      ]
     },
     "metadata": {},
     "output_type": "display_data"
    }
   ],
   "source": [
    "# Define the FCNN model\n",
    "model = keras.Sequential([\n",
    "    keras.layers.Dense(64, activation='relu', input_shape=(X_train.shape[1],)),  # Input layer\n",
    "    keras.layers.Dense(128, activation='relu'),  # Hidden layer 1\n",
    "    keras.layers.Dense(64, activation='relu'),   # Hidden layer 2\n",
    "    keras.layers.Dense(1)  # Output layer (Regression task, no activation function)\n",
    "])\n",
    "\n",
    "# Compile the model\n",
    "model.compile(optimizer='adam', loss='mse', metrics=['mae'])\n",
    "\n",
    "# Show model summary\n",
    "model.summary()\n"
   ]
  },
  {
   "cell_type": "markdown",
   "id": "939baf72",
   "metadata": {},
   "source": [
    "ReLU activation → Handles non-linearity well. 64-128-64 neurons → Provides enough learning capacity. Adam optimizer → Adaptive learning rate for better convergence."
   ]
  },
  {
   "cell_type": "markdown",
   "id": "561bfd14",
   "metadata": {},
   "source": [
    "Now we will train the Neural Network We now train the model for 100 epochs."
   ]
  },
  {
   "cell_type": "code",
   "execution_count": 4,
   "id": "b90ac44e",
   "metadata": {},
   "outputs": [
    {
     "name": "stdout",
     "output_type": "stream",
     "text": [
      "Epoch 1/100\n",
      "\u001b[1m104/104\u001b[0m \u001b[32m━━━━━━━━━━━━━━━━━━━━\u001b[0m\u001b[37m\u001b[0m \u001b[1m4s\u001b[0m 10ms/step - loss: 8.9102 - mae: 1.1646 - val_loss: 5.4518 - val_mae: 1.1642\n",
      "Epoch 2/100\n",
      "\u001b[1m104/104\u001b[0m \u001b[32m━━━━━━━━━━━━━━━━━━━━\u001b[0m\u001b[37m\u001b[0m \u001b[1m1s\u001b[0m 6ms/step - loss: 5.6397 - mae: 1.0374 - val_loss: 5.0844 - val_mae: 0.9137\n",
      "Epoch 3/100\n",
      "\u001b[1m104/104\u001b[0m \u001b[32m━━━━━━━━━━━━━━━━━━━━\u001b[0m\u001b[37m\u001b[0m \u001b[1m1s\u001b[0m 5ms/step - loss: 5.6888 - mae: 1.0217 - val_loss: 4.9433 - val_mae: 0.9134\n",
      "Epoch 4/100\n",
      "\u001b[1m104/104\u001b[0m \u001b[32m━━━━━━━━━━━━━━━━━━━━\u001b[0m\u001b[37m\u001b[0m \u001b[1m1s\u001b[0m 5ms/step - loss: 5.4983 - mae: 0.9151 - val_loss: 4.9632 - val_mae: 0.8600\n",
      "Epoch 5/100\n",
      "\u001b[1m104/104\u001b[0m \u001b[32m━━━━━━━━━━━━━━━━━━━━\u001b[0m\u001b[37m\u001b[0m \u001b[1m1s\u001b[0m 6ms/step - loss: 5.2841 - mae: 0.8942 - val_loss: 4.7822 - val_mae: 0.8825\n",
      "Epoch 6/100\n",
      "\u001b[1m104/104\u001b[0m \u001b[32m━━━━━━━━━━━━━━━━━━━━\u001b[0m\u001b[37m\u001b[0m \u001b[1m1s\u001b[0m 5ms/step - loss: 5.0244 - mae: 0.8580 - val_loss: 4.8704 - val_mae: 0.9567\n",
      "Epoch 7/100\n",
      "\u001b[1m104/104\u001b[0m \u001b[32m━━━━━━━━━━━━━━━━━━━━\u001b[0m\u001b[37m\u001b[0m \u001b[1m1s\u001b[0m 5ms/step - loss: 5.1581 - mae: 0.8873 - val_loss: 4.7803 - val_mae: 0.9235\n",
      "Epoch 8/100\n",
      "\u001b[1m104/104\u001b[0m \u001b[32m━━━━━━━━━━━━━━━━━━━━\u001b[0m\u001b[37m\u001b[0m \u001b[1m1s\u001b[0m 5ms/step - loss: 4.7342 - mae: 0.8235 - val_loss: 4.4082 - val_mae: 0.8380\n",
      "Epoch 9/100\n",
      "\u001b[1m104/104\u001b[0m \u001b[32m━━━━━━━━━━━━━━━━━━━━\u001b[0m\u001b[37m\u001b[0m \u001b[1m1s\u001b[0m 5ms/step - loss: 4.8166 - mae: 0.8414 - val_loss: 4.3468 - val_mae: 0.8653\n",
      "Epoch 10/100\n",
      "\u001b[1m104/104\u001b[0m \u001b[32m━━━━━━━━━━━━━━━━━━━━\u001b[0m\u001b[37m\u001b[0m \u001b[1m1s\u001b[0m 5ms/step - loss: 5.0978 - mae: 0.8875 - val_loss: 4.5917 - val_mae: 0.9641\n",
      "Epoch 11/100\n",
      "\u001b[1m104/104\u001b[0m \u001b[32m━━━━━━━━━━━━━━━━━━━━\u001b[0m\u001b[37m\u001b[0m \u001b[1m1s\u001b[0m 5ms/step - loss: 5.0109 - mae: 0.8849 - val_loss: 4.0753 - val_mae: 0.8358\n",
      "Epoch 12/100\n",
      "\u001b[1m104/104\u001b[0m \u001b[32m━━━━━━━━━━━━━━━━━━━━\u001b[0m\u001b[37m\u001b[0m \u001b[1m1s\u001b[0m 5ms/step - loss: 4.7007 - mae: 0.8596 - val_loss: 4.0391 - val_mae: 0.8463\n",
      "Epoch 13/100\n",
      "\u001b[1m104/104\u001b[0m \u001b[32m━━━━━━━━━━━━━━━━━━━━\u001b[0m\u001b[37m\u001b[0m \u001b[1m1s\u001b[0m 6ms/step - loss: 4.3829 - mae: 0.7984 - val_loss: 3.8860 - val_mae: 0.8688\n",
      "Epoch 14/100\n",
      "\u001b[1m104/104\u001b[0m \u001b[32m━━━━━━━━━━━━━━━━━━━━\u001b[0m\u001b[37m\u001b[0m \u001b[1m1s\u001b[0m 5ms/step - loss: 3.8537 - mae: 0.7370 - val_loss: 3.6755 - val_mae: 0.6375\n",
      "Epoch 15/100\n",
      "\u001b[1m104/104\u001b[0m \u001b[32m━━━━━━━━━━━━━━━━━━━━\u001b[0m\u001b[37m\u001b[0m \u001b[1m1s\u001b[0m 6ms/step - loss: 3.7514 - mae: 0.7170 - val_loss: 3.3341 - val_mae: 0.6419\n",
      "Epoch 16/100\n",
      "\u001b[1m104/104\u001b[0m \u001b[32m━━━━━━━━━━━━━━━━━━━━\u001b[0m\u001b[37m\u001b[0m \u001b[1m1s\u001b[0m 5ms/step - loss: 3.5762 - mae: 0.7051 - val_loss: 2.8963 - val_mae: 0.6672\n",
      "Epoch 17/100\n",
      "\u001b[1m104/104\u001b[0m \u001b[32m━━━━━━━━━━━━━━━━━━━━\u001b[0m\u001b[37m\u001b[0m \u001b[1m1s\u001b[0m 7ms/step - loss: 3.5336 - mae: 0.7418 - val_loss: 2.7679 - val_mae: 0.6894\n",
      "Epoch 18/100\n",
      "\u001b[1m104/104\u001b[0m \u001b[32m━━━━━━━━━━━━━━━━━━━━\u001b[0m\u001b[37m\u001b[0m \u001b[1m1s\u001b[0m 6ms/step - loss: 2.7687 - mae: 0.6374 - val_loss: 2.8681 - val_mae: 0.6576\n",
      "Epoch 19/100\n",
      "\u001b[1m104/104\u001b[0m \u001b[32m━━━━━━━━━━━━━━━━━━━━\u001b[0m\u001b[37m\u001b[0m \u001b[1m1s\u001b[0m 5ms/step - loss: 2.3988 - mae: 0.5657 - val_loss: 2.5347 - val_mae: 0.5890\n",
      "Epoch 20/100\n",
      "\u001b[1m104/104\u001b[0m \u001b[32m━━━━━━━━━━━━━━━━━━━━\u001b[0m\u001b[37m\u001b[0m \u001b[1m1s\u001b[0m 6ms/step - loss: 2.1969 - mae: 0.5247 - val_loss: 2.4585 - val_mae: 0.4894\n",
      "Epoch 21/100\n",
      "\u001b[1m104/104\u001b[0m \u001b[32m━━━━━━━━━━━━━━━━━━━━\u001b[0m\u001b[37m\u001b[0m \u001b[1m1s\u001b[0m 5ms/step - loss: 2.4447 - mae: 0.5878 - val_loss: 2.4795 - val_mae: 0.5900\n",
      "Epoch 22/100\n",
      "\u001b[1m104/104\u001b[0m \u001b[32m━━━━━━━━━━━━━━━━━━━━\u001b[0m\u001b[37m\u001b[0m \u001b[1m1s\u001b[0m 7ms/step - loss: 2.7616 - mae: 0.6265 - val_loss: 2.3702 - val_mae: 0.5275\n",
      "Epoch 23/100\n",
      "\u001b[1m104/104\u001b[0m \u001b[32m━━━━━━━━━━━━━━━━━━━━\u001b[0m\u001b[37m\u001b[0m \u001b[1m1s\u001b[0m 5ms/step - loss: 1.7732 - mae: 0.4758 - val_loss: 2.2839 - val_mae: 0.5172\n",
      "Epoch 24/100\n",
      "\u001b[1m104/104\u001b[0m \u001b[32m━━━━━━━━━━━━━━━━━━━━\u001b[0m\u001b[37m\u001b[0m \u001b[1m1s\u001b[0m 6ms/step - loss: 1.6696 - mae: 0.4362 - val_loss: 3.1998 - val_mae: 0.6501\n",
      "Epoch 25/100\n",
      "\u001b[1m104/104\u001b[0m \u001b[32m━━━━━━━━━━━━━━━━━━━━\u001b[0m\u001b[37m\u001b[0m \u001b[1m1s\u001b[0m 5ms/step - loss: 1.9598 - mae: 0.5004 - val_loss: 2.2574 - val_mae: 0.4713\n",
      "Epoch 26/100\n",
      "\u001b[1m104/104\u001b[0m \u001b[32m━━━━━━━━━━━━━━━━━━━━\u001b[0m\u001b[37m\u001b[0m \u001b[1m1s\u001b[0m 5ms/step - loss: 1.4667 - mae: 0.4129 - val_loss: 2.4020 - val_mae: 0.5498\n",
      "Epoch 27/100\n",
      "\u001b[1m104/104\u001b[0m \u001b[32m━━━━━━━━━━━━━━━━━━━━\u001b[0m\u001b[37m\u001b[0m \u001b[1m1s\u001b[0m 5ms/step - loss: 2.3018 - mae: 0.5568 - val_loss: 2.4840 - val_mae: 0.4608\n",
      "Epoch 28/100\n",
      "\u001b[1m104/104\u001b[0m \u001b[32m━━━━━━━━━━━━━━━━━━━━\u001b[0m\u001b[37m\u001b[0m \u001b[1m1s\u001b[0m 5ms/step - loss: 2.3193 - mae: 0.4877 - val_loss: 2.3749 - val_mae: 0.4237\n",
      "Epoch 29/100\n",
      "\u001b[1m104/104\u001b[0m \u001b[32m━━━━━━━━━━━━━━━━━━━━\u001b[0m\u001b[37m\u001b[0m \u001b[1m1s\u001b[0m 6ms/step - loss: 1.7100 - mae: 0.3929 - val_loss: 2.2640 - val_mae: 0.4103\n",
      "Epoch 30/100\n",
      "\u001b[1m104/104\u001b[0m \u001b[32m━━━━━━━━━━━━━━━━━━━━\u001b[0m\u001b[37m\u001b[0m \u001b[1m1s\u001b[0m 5ms/step - loss: 1.7905 - mae: 0.3965 - val_loss: 2.4956 - val_mae: 0.4887\n",
      "Epoch 31/100\n",
      "\u001b[1m104/104\u001b[0m \u001b[32m━━━━━━━━━━━━━━━━━━━━\u001b[0m\u001b[37m\u001b[0m \u001b[1m1s\u001b[0m 6ms/step - loss: 2.1986 - mae: 0.4873 - val_loss: 2.4302 - val_mae: 0.4211\n",
      "Epoch 32/100\n",
      "\u001b[1m104/104\u001b[0m \u001b[32m━━━━━━━━━━━━━━━━━━━━\u001b[0m\u001b[37m\u001b[0m \u001b[1m1s\u001b[0m 5ms/step - loss: 2.0907 - mae: 0.4362 - val_loss: 2.3707 - val_mae: 0.4162\n",
      "Epoch 33/100\n",
      "\u001b[1m104/104\u001b[0m \u001b[32m━━━━━━━━━━━━━━━━━━━━\u001b[0m\u001b[37m\u001b[0m \u001b[1m1s\u001b[0m 5ms/step - loss: 1.5215 - mae: 0.3510 - val_loss: 2.3949 - val_mae: 0.4104\n",
      "Epoch 34/100\n",
      "\u001b[1m104/104\u001b[0m \u001b[32m━━━━━━━━━━━━━━━━━━━━\u001b[0m\u001b[37m\u001b[0m \u001b[1m1s\u001b[0m 5ms/step - loss: 2.2915 - mae: 0.4813 - val_loss: 2.3351 - val_mae: 0.4349\n",
      "Epoch 35/100\n",
      "\u001b[1m104/104\u001b[0m \u001b[32m━━━━━━━━━━━━━━━━━━━━\u001b[0m\u001b[37m\u001b[0m \u001b[1m1s\u001b[0m 7ms/step - loss: 2.2399 - mae: 0.4642 - val_loss: 2.5978 - val_mae: 0.4357\n",
      "Epoch 36/100\n",
      "\u001b[1m104/104\u001b[0m \u001b[32m━━━━━━━━━━━━━━━━━━━━\u001b[0m\u001b[37m\u001b[0m \u001b[1m1s\u001b[0m 5ms/step - loss: 1.9275 - mae: 0.4359 - val_loss: 3.0797 - val_mae: 0.6101\n",
      "Epoch 37/100\n",
      "\u001b[1m104/104\u001b[0m \u001b[32m━━━━━━━━━━━━━━━━━━━━\u001b[0m\u001b[37m\u001b[0m \u001b[1m1s\u001b[0m 5ms/step - loss: 2.5987 - mae: 0.5478 - val_loss: 2.1852 - val_mae: 0.5081\n",
      "Epoch 38/100\n",
      "\u001b[1m104/104\u001b[0m \u001b[32m━━━━━━━━━━━━━━━━━━━━\u001b[0m\u001b[37m\u001b[0m \u001b[1m1s\u001b[0m 6ms/step - loss: 2.1122 - mae: 0.5081 - val_loss: 2.1607 - val_mae: 0.3641\n",
      "Epoch 39/100\n",
      "\u001b[1m104/104\u001b[0m \u001b[32m━━━━━━━━━━━━━━━━━━━━\u001b[0m\u001b[37m\u001b[0m \u001b[1m1s\u001b[0m 5ms/step - loss: 2.1736 - mae: 0.4302 - val_loss: 2.6281 - val_mae: 0.4419\n",
      "Epoch 40/100\n",
      "\u001b[1m104/104\u001b[0m \u001b[32m━━━━━━━━━━━━━━━━━━━━\u001b[0m\u001b[37m\u001b[0m \u001b[1m1s\u001b[0m 6ms/step - loss: 1.4930 - mae: 0.3468 - val_loss: 2.4603 - val_mae: 0.4358\n",
      "Epoch 41/100\n",
      "\u001b[1m104/104\u001b[0m \u001b[32m━━━━━━━━━━━━━━━━━━━━\u001b[0m\u001b[37m\u001b[0m \u001b[1m1s\u001b[0m 5ms/step - loss: 1.4757 - mae: 0.3462 - val_loss: 2.3017 - val_mae: 0.3624\n",
      "Epoch 42/100\n",
      "\u001b[1m104/104\u001b[0m \u001b[32m━━━━━━━━━━━━━━━━━━━━\u001b[0m\u001b[37m\u001b[0m \u001b[1m1s\u001b[0m 5ms/step - loss: 1.8334 - mae: 0.3666 - val_loss: 2.5061 - val_mae: 0.4124\n",
      "Epoch 43/100\n",
      "\u001b[1m104/104\u001b[0m \u001b[32m━━━━━━━━━━━━━━━━━━━━\u001b[0m\u001b[37m\u001b[0m \u001b[1m1s\u001b[0m 6ms/step - loss: 1.6887 - mae: 0.3516 - val_loss: 2.3035 - val_mae: 0.3844\n",
      "Epoch 44/100\n",
      "\u001b[1m104/104\u001b[0m \u001b[32m━━━━━━━━━━━━━━━━━━━━\u001b[0m\u001b[37m\u001b[0m \u001b[1m1s\u001b[0m 7ms/step - loss: 1.8258 - mae: 0.3727 - val_loss: 2.4312 - val_mae: 0.4323\n",
      "Epoch 45/100\n",
      "\u001b[1m104/104\u001b[0m \u001b[32m━━━━━━━━━━━━━━━━━━━━\u001b[0m\u001b[37m\u001b[0m \u001b[1m1s\u001b[0m 8ms/step - loss: 1.4654 - mae: 0.3165 - val_loss: 2.4482 - val_mae: 0.4454\n",
      "Epoch 46/100\n",
      "\u001b[1m104/104\u001b[0m \u001b[32m━━━━━━━━━━━━━━━━━━━━\u001b[0m\u001b[37m\u001b[0m \u001b[1m1s\u001b[0m 5ms/step - loss: 1.8575 - mae: 0.4182 - val_loss: 2.2195 - val_mae: 0.3841\n",
      "Epoch 47/100\n",
      "\u001b[1m104/104\u001b[0m \u001b[32m━━━━━━━━━━━━━━━━━━━━\u001b[0m\u001b[37m\u001b[0m \u001b[1m1s\u001b[0m 5ms/step - loss: 1.5588 - mae: 0.3333 - val_loss: 2.1729 - val_mae: 0.3392\n",
      "Epoch 48/100\n",
      "\u001b[1m104/104\u001b[0m \u001b[32m━━━━━━━━━━━━━━━━━━━━\u001b[0m\u001b[37m\u001b[0m \u001b[1m1s\u001b[0m 5ms/step - loss: 1.1168 - mae: 0.3151 - val_loss: 5.9232 - val_mae: 0.8264\n",
      "Epoch 49/100\n",
      "\u001b[1m104/104\u001b[0m \u001b[32m━━━━━━━━━━━━━━━━━━━━\u001b[0m\u001b[37m\u001b[0m \u001b[1m1s\u001b[0m 5ms/step - loss: 2.6978 - mae: 0.6020 - val_loss: 2.4301 - val_mae: 0.4168\n",
      "Epoch 50/100\n",
      "\u001b[1m104/104\u001b[0m \u001b[32m━━━━━━━━━━━━━━━━━━━━\u001b[0m\u001b[37m\u001b[0m \u001b[1m1s\u001b[0m 5ms/step - loss: 1.5277 - mae: 0.3752 - val_loss: 2.7350 - val_mae: 0.4266\n",
      "Epoch 51/100\n",
      "\u001b[1m104/104\u001b[0m \u001b[32m━━━━━━━━━━━━━━━━━━━━\u001b[0m\u001b[37m\u001b[0m \u001b[1m1s\u001b[0m 5ms/step - loss: 1.9395 - mae: 0.3741 - val_loss: 2.7454 - val_mae: 0.5224\n",
      "Epoch 52/100\n",
      "\u001b[1m104/104\u001b[0m \u001b[32m━━━━━━━━━━━━━━━━━━━━\u001b[0m\u001b[37m\u001b[0m \u001b[1m1s\u001b[0m 5ms/step - loss: 2.4909 - mae: 0.4876 - val_loss: 2.2442 - val_mae: 0.3387\n",
      "Epoch 53/100\n",
      "\u001b[1m104/104\u001b[0m \u001b[32m━━━━━━━━━━━━━━━━━━━━\u001b[0m\u001b[37m\u001b[0m \u001b[1m1s\u001b[0m 4ms/step - loss: 1.8655 - mae: 0.3749 - val_loss: 2.3342 - val_mae: 0.3671\n",
      "Epoch 54/100\n"
     ]
    },
    {
     "name": "stdout",
     "output_type": "stream",
     "text": [
      "\u001b[1m104/104\u001b[0m \u001b[32m━━━━━━━━━━━━━━━━━━━━\u001b[0m\u001b[37m\u001b[0m \u001b[1m1s\u001b[0m 6ms/step - loss: 1.8063 - mae: 0.3585 - val_loss: 2.4138 - val_mae: 0.3283\n",
      "Epoch 55/100\n",
      "\u001b[1m104/104\u001b[0m \u001b[32m━━━━━━━━━━━━━━━━━━━━\u001b[0m\u001b[37m\u001b[0m \u001b[1m1s\u001b[0m 6ms/step - loss: 1.5269 - mae: 0.3756 - val_loss: 2.3853 - val_mae: 0.4581\n",
      "Epoch 56/100\n",
      "\u001b[1m104/104\u001b[0m \u001b[32m━━━━━━━━━━━━━━━━━━━━\u001b[0m\u001b[37m\u001b[0m \u001b[1m1s\u001b[0m 5ms/step - loss: 1.9066 - mae: 0.4279 - val_loss: 2.2590 - val_mae: 0.3671\n",
      "Epoch 57/100\n",
      "\u001b[1m104/104\u001b[0m \u001b[32m━━━━━━━━━━━━━━━━━━━━\u001b[0m\u001b[37m\u001b[0m \u001b[1m1s\u001b[0m 6ms/step - loss: 1.5162 - mae: 0.3720 - val_loss: 2.6903 - val_mae: 0.4882\n",
      "Epoch 58/100\n",
      "\u001b[1m104/104\u001b[0m \u001b[32m━━━━━━━━━━━━━━━━━━━━\u001b[0m\u001b[37m\u001b[0m \u001b[1m1s\u001b[0m 6ms/step - loss: 3.0930 - mae: 0.5543 - val_loss: 2.2317 - val_mae: 0.3364\n",
      "Epoch 59/100\n",
      "\u001b[1m104/104\u001b[0m \u001b[32m━━━━━━━━━━━━━━━━━━━━\u001b[0m\u001b[37m\u001b[0m \u001b[1m1s\u001b[0m 5ms/step - loss: 1.7562 - mae: 0.3772 - val_loss: 2.5895 - val_mae: 0.4581\n",
      "Epoch 60/100\n",
      "\u001b[1m104/104\u001b[0m \u001b[32m━━━━━━━━━━━━━━━━━━━━\u001b[0m\u001b[37m\u001b[0m \u001b[1m1s\u001b[0m 5ms/step - loss: 1.9624 - mae: 0.4450 - val_loss: 2.2021 - val_mae: 0.3423\n",
      "Epoch 61/100\n",
      "\u001b[1m104/104\u001b[0m \u001b[32m━━━━━━━━━━━━━━━━━━━━\u001b[0m\u001b[37m\u001b[0m \u001b[1m1s\u001b[0m 6ms/step - loss: 1.6476 - mae: 0.3537 - val_loss: 2.2460 - val_mae: 0.3581\n",
      "Epoch 62/100\n",
      "\u001b[1m104/104\u001b[0m \u001b[32m━━━━━━━━━━━━━━━━━━━━\u001b[0m\u001b[37m\u001b[0m \u001b[1m1s\u001b[0m 6ms/step - loss: 2.1169 - mae: 0.4147 - val_loss: 2.9033 - val_mae: 0.4163\n",
      "Epoch 63/100\n",
      "\u001b[1m104/104\u001b[0m \u001b[32m━━━━━━━━━━━━━━━━━━━━\u001b[0m\u001b[37m\u001b[0m \u001b[1m1s\u001b[0m 7ms/step - loss: 2.2040 - mae: 0.3971 - val_loss: 2.3626 - val_mae: 0.3232\n",
      "Epoch 64/100\n",
      "\u001b[1m104/104\u001b[0m \u001b[32m━━━━━━━━━━━━━━━━━━━━\u001b[0m\u001b[37m\u001b[0m \u001b[1m1s\u001b[0m 5ms/step - loss: 2.1734 - mae: 0.4133 - val_loss: 2.1854 - val_mae: 0.3684\n",
      "Epoch 65/100\n",
      "\u001b[1m104/104\u001b[0m \u001b[32m━━━━━━━━━━━━━━━━━━━━\u001b[0m\u001b[37m\u001b[0m \u001b[1m1s\u001b[0m 5ms/step - loss: 1.6811 - mae: 0.3616 - val_loss: 3.0107 - val_mae: 0.4719\n",
      "Epoch 66/100\n",
      "\u001b[1m104/104\u001b[0m \u001b[32m━━━━━━━━━━━━━━━━━━━━\u001b[0m\u001b[37m\u001b[0m \u001b[1m1s\u001b[0m 5ms/step - loss: 1.6407 - mae: 0.3780 - val_loss: 2.5196 - val_mae: 0.4396\n",
      "Epoch 67/100\n",
      "\u001b[1m104/104\u001b[0m \u001b[32m━━━━━━━━━━━━━━━━━━━━\u001b[0m\u001b[37m\u001b[0m \u001b[1m1s\u001b[0m 5ms/step - loss: 1.5749 - mae: 0.3214 - val_loss: 2.2553 - val_mae: 0.3122\n",
      "Epoch 68/100\n",
      "\u001b[1m104/104\u001b[0m \u001b[32m━━━━━━━━━━━━━━━━━━━━\u001b[0m\u001b[37m\u001b[0m \u001b[1m1s\u001b[0m 6ms/step - loss: 1.6183 - mae: 0.3574 - val_loss: 2.2310 - val_mae: 0.3259\n",
      "Epoch 69/100\n",
      "\u001b[1m104/104\u001b[0m \u001b[32m━━━━━━━━━━━━━━━━━━━━\u001b[0m\u001b[37m\u001b[0m \u001b[1m1s\u001b[0m 6ms/step - loss: 1.9219 - mae: 0.4018 - val_loss: 2.2689 - val_mae: 0.3008\n",
      "Epoch 70/100\n",
      "\u001b[1m104/104\u001b[0m \u001b[32m━━━━━━━━━━━━━━━━━━━━\u001b[0m\u001b[37m\u001b[0m \u001b[1m1s\u001b[0m 6ms/step - loss: 1.4067 - mae: 0.3419 - val_loss: 2.3865 - val_mae: 0.3434\n",
      "Epoch 71/100\n",
      "\u001b[1m104/104\u001b[0m \u001b[32m━━━━━━━━━━━━━━━━━━━━\u001b[0m\u001b[37m\u001b[0m \u001b[1m1s\u001b[0m 5ms/step - loss: 2.5002 - mae: 0.4745 - val_loss: 2.1911 - val_mae: 0.3488\n",
      "Epoch 72/100\n",
      "\u001b[1m104/104\u001b[0m \u001b[32m━━━━━━━━━━━━━━━━━━━━\u001b[0m\u001b[37m\u001b[0m \u001b[1m1s\u001b[0m 5ms/step - loss: 2.2095 - mae: 0.4377 - val_loss: 2.2740 - val_mae: 0.4180\n",
      "Epoch 73/100\n",
      "\u001b[1m104/104\u001b[0m \u001b[32m━━━━━━━━━━━━━━━━━━━━\u001b[0m\u001b[37m\u001b[0m \u001b[1m1s\u001b[0m 5ms/step - loss: 1.4325 - mae: 0.3415 - val_loss: 2.2163 - val_mae: 0.3174\n",
      "Epoch 74/100\n",
      "\u001b[1m104/104\u001b[0m \u001b[32m━━━━━━━━━━━━━━━━━━━━\u001b[0m\u001b[37m\u001b[0m \u001b[1m1s\u001b[0m 5ms/step - loss: 1.3921 - mae: 0.2928 - val_loss: 2.5511 - val_mae: 0.4540\n",
      "Epoch 75/100\n",
      "\u001b[1m104/104\u001b[0m \u001b[32m━━━━━━━━━━━━━━━━━━━━\u001b[0m\u001b[37m\u001b[0m \u001b[1m1s\u001b[0m 5ms/step - loss: 2.0472 - mae: 0.4273 - val_loss: 2.1615 - val_mae: 0.3350\n",
      "Epoch 76/100\n",
      "\u001b[1m104/104\u001b[0m \u001b[32m━━━━━━━━━━━━━━━━━━━━\u001b[0m\u001b[37m\u001b[0m \u001b[1m1s\u001b[0m 5ms/step - loss: 1.7122 - mae: 0.3477 - val_loss: 2.2805 - val_mae: 0.3324\n",
      "Epoch 77/100\n",
      "\u001b[1m104/104\u001b[0m \u001b[32m━━━━━━━━━━━━━━━━━━━━\u001b[0m\u001b[37m\u001b[0m \u001b[1m1s\u001b[0m 5ms/step - loss: 1.5863 - mae: 0.3075 - val_loss: 2.2984 - val_mae: 0.3748\n",
      "Epoch 78/100\n",
      "\u001b[1m104/104\u001b[0m \u001b[32m━━━━━━━━━━━━━━━━━━━━\u001b[0m\u001b[37m\u001b[0m \u001b[1m1s\u001b[0m 5ms/step - loss: 1.6289 - mae: 0.3236 - val_loss: 2.4859 - val_mae: 0.4446\n",
      "Epoch 79/100\n",
      "\u001b[1m104/104\u001b[0m \u001b[32m━━━━━━━━━━━━━━━━━━━━\u001b[0m\u001b[37m\u001b[0m \u001b[1m1s\u001b[0m 5ms/step - loss: 1.3369 - mae: 0.2879 - val_loss: 2.2903 - val_mae: 0.3523\n",
      "Epoch 80/100\n",
      "\u001b[1m104/104\u001b[0m \u001b[32m━━━━━━━━━━━━━━━━━━━━\u001b[0m\u001b[37m\u001b[0m \u001b[1m1s\u001b[0m 5ms/step - loss: 1.4217 - mae: 0.2952 - val_loss: 2.1823 - val_mae: 0.3371\n",
      "Epoch 81/100\n",
      "\u001b[1m104/104\u001b[0m \u001b[32m━━━━━━━━━━━━━━━━━━━━\u001b[0m\u001b[37m\u001b[0m \u001b[1m1s\u001b[0m 5ms/step - loss: 1.9599 - mae: 0.3390 - val_loss: 2.5041 - val_mae: 0.3299\n",
      "Epoch 82/100\n",
      "\u001b[1m104/104\u001b[0m \u001b[32m━━━━━━━━━━━━━━━━━━━━\u001b[0m\u001b[37m\u001b[0m \u001b[1m1s\u001b[0m 6ms/step - loss: 1.5396 - mae: 0.2735 - val_loss: 2.2435 - val_mae: 0.2944\n",
      "Epoch 83/100\n",
      "\u001b[1m104/104\u001b[0m \u001b[32m━━━━━━━━━━━━━━━━━━━━\u001b[0m\u001b[37m\u001b[0m \u001b[1m1s\u001b[0m 5ms/step - loss: 1.6272 - mae: 0.3151 - val_loss: 2.2130 - val_mae: 0.3239\n",
      "Epoch 84/100\n",
      "\u001b[1m104/104\u001b[0m \u001b[32m━━━━━━━━━━━━━━━━━━━━\u001b[0m\u001b[37m\u001b[0m \u001b[1m1s\u001b[0m 6ms/step - loss: 1.0995 - mae: 0.2978 - val_loss: 2.1450 - val_mae: 0.3210\n",
      "Epoch 85/100\n",
      "\u001b[1m104/104\u001b[0m \u001b[32m━━━━━━━━━━━━━━━━━━━━\u001b[0m\u001b[37m\u001b[0m \u001b[1m1s\u001b[0m 5ms/step - loss: 1.4153 - mae: 0.3075 - val_loss: 2.8168 - val_mae: 0.4254\n",
      "Epoch 86/100\n",
      "\u001b[1m104/104\u001b[0m \u001b[32m━━━━━━━━━━━━━━━━━━━━\u001b[0m\u001b[37m\u001b[0m \u001b[1m1s\u001b[0m 6ms/step - loss: 1.9511 - mae: 0.4780 - val_loss: 2.1704 - val_mae: 0.3657\n",
      "Epoch 87/100\n",
      "\u001b[1m104/104\u001b[0m \u001b[32m━━━━━━━━━━━━━━━━━━━━\u001b[0m\u001b[37m\u001b[0m \u001b[1m1s\u001b[0m 6ms/step - loss: 1.7311 - mae: 0.3196 - val_loss: 2.6280 - val_mae: 0.3722\n",
      "Epoch 88/100\n",
      "\u001b[1m104/104\u001b[0m \u001b[32m━━━━━━━━━━━━━━━━━━━━\u001b[0m\u001b[37m\u001b[0m \u001b[1m1s\u001b[0m 5ms/step - loss: 1.8288 - mae: 0.4285 - val_loss: 2.3592 - val_mae: 0.3871\n",
      "Epoch 89/100\n",
      "\u001b[1m104/104\u001b[0m \u001b[32m━━━━━━━━━━━━━━━━━━━━\u001b[0m\u001b[37m\u001b[0m \u001b[1m1s\u001b[0m 5ms/step - loss: 1.4307 - mae: 0.3253 - val_loss: 2.3375 - val_mae: 0.3625\n",
      "Epoch 90/100\n",
      "\u001b[1m104/104\u001b[0m \u001b[32m━━━━━━━━━━━━━━━━━━━━\u001b[0m\u001b[37m\u001b[0m \u001b[1m1s\u001b[0m 5ms/step - loss: 1.4684 - mae: 0.3233 - val_loss: 2.4109 - val_mae: 0.4273\n",
      "Epoch 91/100\n",
      "\u001b[1m104/104\u001b[0m \u001b[32m━━━━━━━━━━━━━━━━━━━━\u001b[0m\u001b[37m\u001b[0m \u001b[1m1s\u001b[0m 5ms/step - loss: 2.1536 - mae: 0.4440 - val_loss: 2.1613 - val_mae: 0.3061\n",
      "Epoch 92/100\n",
      "\u001b[1m104/104\u001b[0m \u001b[32m━━━━━━━━━━━━━━━━━━━━\u001b[0m\u001b[37m\u001b[0m \u001b[1m1s\u001b[0m 5ms/step - loss: 0.8500 - mae: 0.2171 - val_loss: 2.0627 - val_mae: 0.3673\n",
      "Epoch 93/100\n",
      "\u001b[1m104/104\u001b[0m \u001b[32m━━━━━━━━━━━━━━━━━━━━\u001b[0m\u001b[37m\u001b[0m \u001b[1m1s\u001b[0m 5ms/step - loss: 1.6995 - mae: 0.3295 - val_loss: 2.5260 - val_mae: 0.4121\n",
      "Epoch 94/100\n",
      "\u001b[1m104/104\u001b[0m \u001b[32m━━━━━━━━━━━━━━━━━━━━\u001b[0m\u001b[37m\u001b[0m \u001b[1m1s\u001b[0m 6ms/step - loss: 1.2697 - mae: 0.2720 - val_loss: 2.2481 - val_mae: 0.2943\n",
      "Epoch 95/100\n",
      "\u001b[1m104/104\u001b[0m \u001b[32m━━━━━━━━━━━━━━━━━━━━\u001b[0m\u001b[37m\u001b[0m \u001b[1m1s\u001b[0m 6ms/step - loss: 1.4117 - mae: 0.2955 - val_loss: 2.2957 - val_mae: 0.3446\n",
      "Epoch 96/100\n",
      "\u001b[1m104/104\u001b[0m \u001b[32m━━━━━━━━━━━━━━━━━━━━\u001b[0m\u001b[37m\u001b[0m \u001b[1m1s\u001b[0m 6ms/step - loss: 1.1960 - mae: 0.2582 - val_loss: 2.1537 - val_mae: 0.3170\n",
      "Epoch 97/100\n",
      "\u001b[1m104/104\u001b[0m \u001b[32m━━━━━━━━━━━━━━━━━━━━\u001b[0m\u001b[37m\u001b[0m \u001b[1m1s\u001b[0m 6ms/step - loss: 2.6058 - mae: 0.4513 - val_loss: 2.4338 - val_mae: 0.3162\n",
      "Epoch 98/100\n",
      "\u001b[1m104/104\u001b[0m \u001b[32m━━━━━━━━━━━━━━━━━━━━\u001b[0m\u001b[37m\u001b[0m \u001b[1m1s\u001b[0m 5ms/step - loss: 1.6361 - mae: 0.3184 - val_loss: 2.4190 - val_mae: 0.3424\n",
      "Epoch 99/100\n",
      "\u001b[1m104/104\u001b[0m \u001b[32m━━━━━━━━━━━━━━━━━━━━\u001b[0m\u001b[37m\u001b[0m \u001b[1m1s\u001b[0m 5ms/step - loss: 1.5460 - mae: 0.2996 - val_loss: 2.3426 - val_mae: 0.3234\n",
      "Epoch 100/100\n",
      "\u001b[1m104/104\u001b[0m \u001b[32m━━━━━━━━━━━━━━━━━━━━\u001b[0m\u001b[37m\u001b[0m \u001b[1m1s\u001b[0m 5ms/step - loss: 1.0041 - mae: 0.2553 - val_loss: 2.1439 - val_mae: 0.3387\n"
     ]
    },
    {
     "name": "stderr",
     "output_type": "stream",
     "text": [
      "WARNING:absl:You are saving your model as an HDF5 file via `model.save()` or `keras.saving.save_model(model)`. This file format is considered legacy. We recommend using instead the native Keras format, e.g. `model.save('my_model.keras')` or `keras.saving.save_model(model, 'my_model.keras')`. \n"
     ]
    },
    {
     "name": "stdout",
     "output_type": "stream",
     "text": [
      "✅ Neural network model trained and saved as 'fcnn_insulation_model.h5'!\n"
     ]
    }
   ],
   "source": [
    "# Train the model\n",
    "history = model.fit(X_train, y_train, epochs=100, batch_size=32, validation_split=0.1, verbose=1)\n",
    "\n",
    "# Save the trained model\n",
    "model.save('fcnn_insulation_model.h5')\n",
    "print(\"✅ Neural network model trained and saved as 'fcnn_insulation_model.h5'!\")"
   ]
  },
  {
   "cell_type": "markdown",
   "id": "d65674c5",
   "metadata": {},
   "source": [
    "Let's Evaluate the Model Performance Now, let's check how well our neural network predicts Insulation Efficiency."
   ]
  },
  {
   "cell_type": "code",
   "execution_count": 7,
   "id": "51bc99d8",
   "metadata": {},
   "outputs": [
    {
     "name": "stdout",
     "output_type": "stream",
     "text": [
      "\u001b[1m29/29\u001b[0m \u001b[32m━━━━━━━━━━━━━━━━━━━━\u001b[0m\u001b[37m\u001b[0m \u001b[1m0s\u001b[0m 4ms/step - loss: 1.7229 - mae: 0.3416\n",
      "✅ Model Performance: Loss = 1.7560, MAE = 0.3548\n"
     ]
    }
   ],
   "source": [
    "# Evaluate on test data\n",
    "test_loss, test_mae = model.evaluate(X_test, y_test)\n",
    "print(f\"✅ Model Performance: Loss = {test_loss:.4f}, MAE = {test_mae:.4f}\")"
   ]
  },
  {
   "cell_type": "markdown",
   "id": "9e0eed2c",
   "metadata": {},
   "source": [
    "A loss of ~1.8 suggests reasonable performance but can be improved.\n",
    "MAE of 0.35 means that, on average, the model's prediction deviates by 0.35 units from the actual Insulation_Efficiency."
   ]
  },
  {
   "cell_type": "markdown",
   "id": "e8cc3843",
   "metadata": {},
   "source": [
    " Save and Load the Model for Future Use Once trained, you can load the model anytime for predictions."
   ]
  },
  {
   "cell_type": "code",
   "execution_count": 9,
   "id": "7e0a2375",
   "metadata": {},
   "outputs": [
    {
     "name": "stderr",
     "output_type": "stream",
     "text": [
      "WARNING:absl:Compiled the loaded model, but the compiled metrics have yet to be built. `model.compile_metrics` will be empty until you train or evaluate the model.\n"
     ]
    },
    {
     "name": "stdout",
     "output_type": "stream",
     "text": [
      "\u001b[1m1/1\u001b[0m \u001b[32m━━━━━━━━━━━━━━━━━━━━\u001b[0m\u001b[37m\u001b[0m \u001b[1m0s\u001b[0m 201ms/step\n",
      "Sample Predictions: [0.15371123 0.06068041 0.06235351 0.10447606 2.540975  ]\n"
     ]
    }
   ],
   "source": [
    "from tensorflow.keras.models import load_model\n",
    "from tensorflow.keras.losses import MeanSquaredError\n",
    "\n",
    "# Load saved model with explicit loss function\n",
    "loaded_model = load_model('fcnn_insulation_model.h5', custom_objects={'mse': MeanSquaredError()})\n",
    "\n",
    "# Predict Insulation Efficiency for new data\n",
    "predictions = loaded_model.predict(X_test[:5])  # Predict first 5 test samples\n",
    "print(\"Sample Predictions:\", predictions.flatten())"
   ]
  },
  {
   "cell_type": "markdown",
   "id": "99875082",
   "metadata": {},
   "source": [
    "Model Tuning & Hyperparameter Optimization"
   ]
  },
  {
   "cell_type": "code",
   "execution_count": 10,
   "id": "f21c5c1b",
   "metadata": {},
   "outputs": [
    {
     "name": "stderr",
     "output_type": "stream",
     "text": [
      "C:\\Users\\kawri\\AppData\\Roaming\\Python\\Python311\\site-packages\\keras\\src\\layers\\core\\dense.py:87: UserWarning: Do not pass an `input_shape`/`input_dim` argument to a layer. When using Sequential models, prefer using an `Input(shape)` object as the first layer in the model instead.\n",
      "  super().__init__(activity_regularizer=activity_regularizer, **kwargs)\n"
     ]
    },
    {
     "name": "stdout",
     "output_type": "stream",
     "text": [
      "Epoch 1/150\n",
      "\u001b[1m104/104\u001b[0m \u001b[32m━━━━━━━━━━━━━━━━━━━━\u001b[0m\u001b[37m\u001b[0m \u001b[1m7s\u001b[0m 13ms/step - loss: 9.3444 - mae: 1.7162 - val_loss: 8.6288 - val_mae: 0.9557\n",
      "Epoch 2/150\n",
      "\u001b[1m104/104\u001b[0m \u001b[32m━━━━━━━━━━━━━━━━━━━━\u001b[0m\u001b[37m\u001b[0m \u001b[1m1s\u001b[0m 8ms/step - loss: 7.1896 - mae: 1.3884 - val_loss: 8.6917 - val_mae: 1.0236\n",
      "Epoch 3/150\n",
      "\u001b[1m104/104\u001b[0m \u001b[32m━━━━━━━━━━━━━━━━━━━━\u001b[0m\u001b[37m\u001b[0m \u001b[1m1s\u001b[0m 6ms/step - loss: 5.7152 - mae: 1.1981 - val_loss: 9.1586 - val_mae: 1.1212\n",
      "Epoch 4/150\n",
      "\u001b[1m104/104\u001b[0m \u001b[32m━━━━━━━━━━━━━━━━━━━━\u001b[0m\u001b[37m\u001b[0m \u001b[1m1s\u001b[0m 7ms/step - loss: 5.0038 - mae: 1.1094 - val_loss: 10.1268 - val_mae: 1.2630\n",
      "Epoch 5/150\n",
      "\u001b[1m104/104\u001b[0m \u001b[32m━━━━━━━━━━━━━━━━━━━━\u001b[0m\u001b[37m\u001b[0m \u001b[1m1s\u001b[0m 6ms/step - loss: 3.9949 - mae: 1.0285 - val_loss: 10.4008 - val_mae: 1.2911\n",
      "Epoch 6/150\n",
      "\u001b[1m104/104\u001b[0m \u001b[32m━━━━━━━━━━━━━━━━━━━━\u001b[0m\u001b[37m\u001b[0m \u001b[1m1s\u001b[0m 7ms/step - loss: 3.8761 - mae: 0.9716 - val_loss: 5.6111 - val_mae: 0.9747\n",
      "Epoch 7/150\n",
      "\u001b[1m104/104\u001b[0m \u001b[32m━━━━━━━━━━━━━━━━━━━━\u001b[0m\u001b[37m\u001b[0m \u001b[1m1s\u001b[0m 7ms/step - loss: 3.7511 - mae: 0.9790 - val_loss: 3.4883 - val_mae: 0.8791\n",
      "Epoch 8/150\n",
      "\u001b[1m104/104\u001b[0m \u001b[32m━━━━━━━━━━━━━━━━━━━━\u001b[0m\u001b[37m\u001b[0m \u001b[1m1s\u001b[0m 7ms/step - loss: 3.7330 - mae: 0.9740 - val_loss: 3.6962 - val_mae: 0.7472\n",
      "Epoch 9/150\n",
      "\u001b[1m104/104\u001b[0m \u001b[32m━━━━━━━━━━━━━━━━━━━━\u001b[0m\u001b[37m\u001b[0m \u001b[1m1s\u001b[0m 7ms/step - loss: 4.1556 - mae: 1.0064 - val_loss: 5.1938 - val_mae: 0.8867\n",
      "Epoch 10/150\n",
      "\u001b[1m104/104\u001b[0m \u001b[32m━━━━━━━━━━━━━━━━━━━━\u001b[0m\u001b[37m\u001b[0m \u001b[1m1s\u001b[0m 7ms/step - loss: 3.5080 - mae: 0.9223 - val_loss: 2.7793 - val_mae: 0.6042\n",
      "Epoch 11/150\n",
      "\u001b[1m104/104\u001b[0m \u001b[32m━━━━━━━━━━━━━━━━━━━━\u001b[0m\u001b[37m\u001b[0m \u001b[1m1s\u001b[0m 7ms/step - loss: 3.5312 - mae: 0.9211 - val_loss: 5.1795 - val_mae: 0.8436\n",
      "Epoch 12/150\n",
      "\u001b[1m104/104\u001b[0m \u001b[32m━━━━━━━━━━━━━━━━━━━━\u001b[0m\u001b[37m\u001b[0m \u001b[1m1s\u001b[0m 7ms/step - loss: 3.5026 - mae: 0.9113 - val_loss: 2.6671 - val_mae: 0.6234\n",
      "Epoch 13/150\n",
      "\u001b[1m104/104\u001b[0m \u001b[32m━━━━━━━━━━━━━━━━━━━━\u001b[0m\u001b[37m\u001b[0m \u001b[1m1s\u001b[0m 7ms/step - loss: 3.5664 - mae: 0.9043 - val_loss: 2.8638 - val_mae: 0.5671\n",
      "Epoch 14/150\n",
      "\u001b[1m104/104\u001b[0m \u001b[32m━━━━━━━━━━━━━━━━━━━━\u001b[0m\u001b[37m\u001b[0m \u001b[1m1s\u001b[0m 6ms/step - loss: 2.8947 - mae: 0.8003 - val_loss: 3.9104 - val_mae: 0.7342\n",
      "Epoch 15/150\n",
      "\u001b[1m104/104\u001b[0m \u001b[32m━━━━━━━━━━━━━━━━━━━━\u001b[0m\u001b[37m\u001b[0m \u001b[1m1s\u001b[0m 7ms/step - loss: 3.2167 - mae: 0.8728 - val_loss: 2.8815 - val_mae: 0.5848\n",
      "Epoch 16/150\n",
      "\u001b[1m104/104\u001b[0m \u001b[32m━━━━━━━━━━━━━━━━━━━━\u001b[0m\u001b[37m\u001b[0m \u001b[1m1s\u001b[0m 8ms/step - loss: 2.7023 - mae: 0.8139 - val_loss: 2.7298 - val_mae: 0.5247\n",
      "Epoch 17/150\n",
      "\u001b[1m104/104\u001b[0m \u001b[32m━━━━━━━━━━━━━━━━━━━━\u001b[0m\u001b[37m\u001b[0m \u001b[1m1s\u001b[0m 8ms/step - loss: 3.3205 - mae: 0.8628 - val_loss: 2.8767 - val_mae: 0.5986\n",
      "Epoch 18/150\n",
      "\u001b[1m104/104\u001b[0m \u001b[32m━━━━━━━━━━━━━━━━━━━━\u001b[0m\u001b[37m\u001b[0m \u001b[1m1s\u001b[0m 7ms/step - loss: 3.0896 - mae: 0.8357 - val_loss: 2.3675 - val_mae: 0.4564\n",
      "Epoch 19/150\n",
      "\u001b[1m104/104\u001b[0m \u001b[32m━━━━━━━━━━━━━━━━━━━━\u001b[0m\u001b[37m\u001b[0m \u001b[1m1s\u001b[0m 7ms/step - loss: 2.5395 - mae: 0.7548 - val_loss: 2.6337 - val_mae: 0.4723\n",
      "Epoch 20/150\n",
      "\u001b[1m104/104\u001b[0m \u001b[32m━━━━━━━━━━━━━━━━━━━━\u001b[0m\u001b[37m\u001b[0m \u001b[1m1s\u001b[0m 7ms/step - loss: 2.8848 - mae: 0.8178 - val_loss: 2.3428 - val_mae: 0.4554\n",
      "Epoch 21/150\n",
      "\u001b[1m104/104\u001b[0m \u001b[32m━━━━━━━━━━━━━━━━━━━━\u001b[0m\u001b[37m\u001b[0m \u001b[1m1s\u001b[0m 7ms/step - loss: 3.0867 - mae: 0.8026 - val_loss: 4.7571 - val_mae: 0.6937\n",
      "Epoch 22/150\n",
      "\u001b[1m104/104\u001b[0m \u001b[32m━━━━━━━━━━━━━━━━━━━━\u001b[0m\u001b[37m\u001b[0m \u001b[1m1s\u001b[0m 7ms/step - loss: 3.0672 - mae: 0.8064 - val_loss: 3.0302 - val_mae: 0.5276\n",
      "Epoch 23/150\n",
      "\u001b[1m104/104\u001b[0m \u001b[32m━━━━━━━━━━━━━━━━━━━━\u001b[0m\u001b[37m\u001b[0m \u001b[1m1s\u001b[0m 7ms/step - loss: 2.9898 - mae: 0.8080 - val_loss: 2.7635 - val_mae: 0.5775\n",
      "Epoch 24/150\n",
      "\u001b[1m104/104\u001b[0m \u001b[32m━━━━━━━━━━━━━━━━━━━━\u001b[0m\u001b[37m\u001b[0m \u001b[1m1s\u001b[0m 7ms/step - loss: 2.9521 - mae: 0.7878 - val_loss: 2.8598 - val_mae: 0.4443\n",
      "Epoch 25/150\n",
      "\u001b[1m104/104\u001b[0m \u001b[32m━━━━━━━━━━━━━━━━━━━━\u001b[0m\u001b[37m\u001b[0m \u001b[1m1s\u001b[0m 7ms/step - loss: 3.2151 - mae: 0.8499 - val_loss: 3.1864 - val_mae: 0.4774\n",
      "Epoch 26/150\n",
      "\u001b[1m104/104\u001b[0m \u001b[32m━━━━━━━━━━━━━━━━━━━━\u001b[0m\u001b[37m\u001b[0m \u001b[1m1s\u001b[0m 7ms/step - loss: 2.5978 - mae: 0.7925 - val_loss: 2.4097 - val_mae: 0.4647\n",
      "Epoch 27/150\n",
      "\u001b[1m104/104\u001b[0m \u001b[32m━━━━━━━━━━━━━━━━━━━━\u001b[0m\u001b[37m\u001b[0m \u001b[1m1s\u001b[0m 7ms/step - loss: 2.4523 - mae: 0.7266 - val_loss: 3.0749 - val_mae: 0.6220\n",
      "Epoch 28/150\n",
      "\u001b[1m104/104\u001b[0m \u001b[32m━━━━━━━━━━━━━━━━━━━━\u001b[0m\u001b[37m\u001b[0m \u001b[1m1s\u001b[0m 7ms/step - loss: 2.3452 - mae: 0.7467 - val_loss: 3.0114 - val_mae: 0.5980\n",
      "Epoch 29/150\n",
      "\u001b[1m104/104\u001b[0m \u001b[32m━━━━━━━━━━━━━━━━━━━━\u001b[0m\u001b[37m\u001b[0m \u001b[1m1s\u001b[0m 7ms/step - loss: 2.8196 - mae: 0.7821 - val_loss: 3.4261 - val_mae: 0.6602\n",
      "Epoch 30/150\n",
      "\u001b[1m104/104\u001b[0m \u001b[32m━━━━━━━━━━━━━━━━━━━━\u001b[0m\u001b[37m\u001b[0m \u001b[1m1s\u001b[0m 7ms/step - loss: 3.4366 - mae: 0.8767 - val_loss: 3.1874 - val_mae: 0.5993\n",
      "\u001b[1m29/29\u001b[0m \u001b[32m━━━━━━━━━━━━━━━━━━━━\u001b[0m\u001b[37m\u001b[0m \u001b[1m0s\u001b[0m 5ms/step - loss: 1.8388 - mae: 0.4099\n"
     ]
    },
    {
     "name": "stderr",
     "output_type": "stream",
     "text": [
      "WARNING:absl:You are saving your model as an HDF5 file via `model.save()` or `keras.saving.save_model(model)`. This file format is considered legacy. We recommend using instead the native Keras format, e.g. `model.save('my_model.keras')` or `keras.saving.save_model(model, 'my_model.keras')`. \n"
     ]
    },
    {
     "name": "stdout",
     "output_type": "stream",
     "text": [
      "🔍 Improved Model Performance: Loss = 2.0361, MAE = 0.4484\n"
     ]
    }
   ],
   "source": [
    "from tensorflow.keras.models import Sequential\n",
    "from tensorflow.keras.layers import Dense, Dropout, BatchNormalization\n",
    "from tensorflow.keras.callbacks import EarlyStopping\n",
    "from tensorflow.keras.optimizers import Adam\n",
    "\n",
    "# Build improved FCNN model\n",
    "model_improved = Sequential([\n",
    "    Dense(128, activation='relu', input_shape=(X_train.shape[1],)),\n",
    "    BatchNormalization(),\n",
    "    Dropout(0.2),\n",
    "\n",
    "    Dense(128, activation='relu'),\n",
    "    BatchNormalization(),\n",
    "    Dropout(0.2),\n",
    "\n",
    "    Dense(64, activation='relu'),\n",
    "    BatchNormalization(),\n",
    "    Dropout(0.1),\n",
    "\n",
    "    Dense(1)  # Output layer\n",
    "])\n",
    "\n",
    "# Compile model with a lower learning rate\n",
    "optimizer = Adam(learning_rate=0.001)\n",
    "model_improved.compile(optimizer=optimizer, loss='mse', metrics=['mae'])\n",
    "\n",
    "# Early stopping callback\n",
    "early_stop = EarlyStopping(monitor='val_loss', patience=10, restore_best_weights=True)\n",
    "\n",
    "# Train the model\n",
    "history_improved = model_improved.fit(\n",
    "    X_train, y_train,\n",
    "    validation_split=0.1,\n",
    "    epochs=150,\n",
    "    batch_size=32,\n",
    "    callbacks=[early_stop],\n",
    "    verbose=1\n",
    ")\n",
    "\n",
    "# Evaluate the improved model\n",
    "test_loss, test_mae = model_improved.evaluate(X_test, y_test)\n",
    "print(f\"🔍 Improved Model Performance: Loss = {test_loss:.4f}, MAE = {test_mae:.4f}\")\n",
    "\n",
    "# Save the improved model\n",
    "model_improved.save('fcnn_insulation_model_improved.h5')"
   ]
  },
  {
   "cell_type": "markdown",
   "id": "06aa6703",
   "metadata": {},
   "source": [
    "Visualize Training History To check if early stopping worked and if overfitting was reduced."
   ]
  },
  {
   "cell_type": "code",
   "execution_count": 11,
   "id": "e8a5cf60",
   "metadata": {},
   "outputs": [
    {
     "data": {
      "image/png": "[encoded data removed]",
      "text/plain": [
       "<Figure size 600x400 with 1 Axes>"
      ]
     },
     "metadata": {},
     "output_type": "display_data"
    }
   ],
   "source": [
    "import matplotlib.pyplot as plt\n",
    "\n",
    "# Plot training and validation loss\n",
    "plt.figure(figsize=(6,4))\n",
    "plt.plot(history_improved.history['loss'], label='Train Loss')\n",
    "plt.plot(history_improved.history['val_loss'], label='Validation Loss')\n",
    "plt.xlabel('Epoch')\n",
    "plt.ylabel('Loss (MSE)')\n",
    "plt.title('Training vs Validation Loss (Improved FCNN)')\n",
    "plt.legend()\n",
    "plt.grid(True)\n",
    "plt.show()"
   ]
  },
  {
   "cell_type": "markdown",
   "id": "8b63a7d3",
   "metadata": {},
   "source": [
    "# Compare with Traditional ML Models\n",
    "This will demonstrate that your neural net performs better than or comparable to classic ML approaches.\n",
    "\n",
    "Step-by-Step: Compare ML Models (Linear Regression, Random Forest)"
   ]
  },
  {
   "cell_type": "code",
   "execution_count": 17,
   "id": "a795d1c3",
   "metadata": {},
   "outputs": [
    {
     "name": "stdout",
     "output_type": "stream",
     "text": [
      "\n",
      "Linear Regression\n",
      "MAE:  1.6021\n",
      "RMSE: 2.8253\n",
      "R² Score:  0.2014\n",
      "\n",
      "Random Forest\n",
      "MAE:  0.1135\n",
      "RMSE: 0.9767\n",
      "R² Score:  0.9046\n",
      "\u001b[1m29/29\u001b[0m \u001b[32m━━━━━━━━━━━━━━━━━━━━\u001b[0m\u001b[37m\u001b[0m \u001b[1m0s\u001b[0m 4ms/step\n",
      "FCNN\n",
      "MAE: 0.3548\n",
      "RMSE: 1.3251\n",
      "R² Score: 0.8243\n"
     ]
    }
   ],
   "source": [
    "from sklearn.linear_model import LinearRegression\n",
    "from sklearn.ensemble import RandomForestRegressor\n",
    "from sklearn.metrics import mean_squared_error, r2_score, mean_absolute_error\n",
    "import numpy as np\n",
    "\n",
    "# Train Linear Regression\n",
    "lr = LinearRegression()\n",
    "lr.fit(X_train, y_train)\n",
    "y_pred_lr = lr.predict(X_test)\n",
    "\n",
    "# Train Random Forest\n",
    "rf = RandomForestRegressor(n_estimators=100, random_state=42)\n",
    "rf.fit(X_train, y_train)\n",
    "y_pred_rf = rf.predict(X_test)\n",
    "\n",
    "# Evaluate both\n",
    "def evaluate(name, y_true, y_pred):\n",
    "    print(f\"\\n{name}\")\n",
    "    print(f\"MAE:  {mean_absolute_error(y_true, y_pred):.4f}\")\n",
    "    mse = mean_squared_error(y_true, y_pred)\n",
    "    rmse = np.sqrt(mse)\n",
    "    print(f\"RMSE: {rmse:.4f}\")\n",
    "    print(f\"R² Score:  {r2_score(y_true, y_pred):.4f}\")\n",
    "\n",
    "evaluate(\"Linear Regression\", y_test, y_pred_lr)\n",
    "evaluate(\"Random Forest\", y_test, y_pred_rf)\n",
    "from sklearn.metrics import r2_score\n",
    "\n",
    "# After generating predictions with your FCNN\n",
    "y_pred_fcnn = model.predict(X_test)\n",
    "r2_fcnn = r2_score(y_test, y_pred_fcnn)\n",
    "r2_mae = mean_absolute_error(y_test, y_pred_fcnn)\n",
    "r2_mse = mean_squared_error(y_test, y_pred_fcnn)\n",
    "r2_RMSE = np.sqrt(r2_mse)\n",
    "\n",
    "print(\"FCNN\")\n",
    "print(f\"MAE: {r2_mae:.4f}\")\n",
    "print(f\"RMSE: {r2_RMSE:.4f}\")\n",
    "print(f\"R² Score: {r2_fcnn:.4f}\")\n"
   ]
  },
  {
   "cell_type": "code",
   "execution_count": 18,
   "id": "b2bacf8d",
   "metadata": {},
   "outputs": [
    {
     "data": {
      "image/png": "[encoded data removed]",
      "text/plain": [
       "<Figure size 600x400 with 1 Axes>"
      ]
     },
     "metadata": {},
     "output_type": "display_data"
    }
   ],
   "source": [
    "import pandas as pd\n",
    "import matplotlib.pyplot as plt\n",
    "\n",
    "# Get feature names\n",
    "feature_names = ['Thickness', 'Fourier_Number', 'Temp_Diff']\n",
    "\n",
    "# Get feature importances from trained Random Forest\n",
    "importances = rf.feature_importances_\n",
    "\n",
    "# Create DataFrame for plotting\n",
    "importance_df = pd.DataFrame({\n",
    "    'Feature': feature_names,\n",
    "    'Importance': importances\n",
    "}).sort_values(by='Importance', ascending=False)\n",
    "\n",
    "# Plot\n",
    "plt.figure(figsize=(6, 4))\n",
    "plt.barh(importance_df['Feature'], importance_df['Importance'], color='skyblue')\n",
    "plt.xlabel('Relative Importance')\n",
    "plt.title('Feature Importance (Random Forest)')\n",
    "plt.gca().invert_yaxis()\n",
    "plt.grid(True, axis='x')\n",
    "plt.tight_layout()\n",
    "plt.show()"
   ]
  },
  {
   "cell_type": "code",
   "execution_count": null,
   "id": "9313253d",
   "metadata": {},
   "outputs": [],
   "source": []
  }
 ],
 "metadata": {
  "kernelspec": {
   "display_name": "Python 3 (ipykernel)",
   "language": "python",
   "name": "python3"
  },
  "language_info": {
   "codemirror_mode": {
    "name": "ipython",
    "version": 3
   },
   "file_extension": ".py",
   "mimetype": "text/x-python",
   "name": "python",
   "nbconvert_exporter": "python",
   "pygments_lexer": "ipython3",
   "version": "3.11.5"
  }
 },
 "nbformat": 4,
 "nbformat_minor": 5
}
